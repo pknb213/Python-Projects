{
 "cells": [
  {
   "cell_type": "code",
   "execution_count": 1,
   "id": "initial_id",
   "metadata": {
    "collapsed": true,
    "ExecuteTime": {
     "end_time": "2024-02-01T05:54:30.431148Z",
     "start_time": "2024-02-01T05:54:23.979046Z"
    }
   },
   "outputs": [
    {
     "data": {
      "text/plain": "AIMessage(content='서울의 1월 평균 기온은 대략적으로 -2°C에서 2°C 사이입니다. 그러나 각 연도마다 기후 조건이 다를 수 있으므로 정확한 기온은 해당 연도의 기록을 참고해야 합니다.')"
     },
     "execution_count": 1,
     "metadata": {},
     "output_type": "execute_result"
    }
   ],
   "source": [
    "from langchain.chat_models import ChatOpenAI\n",
    "from langchain.schema import HumanMessage, SystemMessage, AIMessage, messages\n",
    "from langchain.prompts import PromptTemplate, ChatPromptTemplate\n",
    "from langchain.schema.output_parser import T\n",
    "\n",
    "template = PromptTemplate.from_template(\n",
    "    \"What is the distance between {country} and {city}?\"\n",
    ")\n",
    "chat = ChatOpenAI(temperature=0.1)\n",
    "prompt = template.format(country=\"Korea\", city=\"Seoul\")\n",
    "chat.predict(prompt)\n",
    "\n",
    "template = ChatPromptTemplate.from_messages([\n",
    "    (\"system\", \"You are a Korean languages expert. And you only reply in korean languages.\"),\n",
    "    (\"ai\", \"안녕. 내 이름은 AI 영조야.\"),\n",
    "    (\"human\", \"서울 1월에 평균 기온이 어느 정도야?\"),\n",
    "])\n",
    "prompt = template.format_messages(\n",
    "    language=\"Korean\",\n",
    "    name=\"영조\",\n",
    "    country=\"Korea\",\n",
    "    city=\"Seoul\"\n",
    ")\n",
    "chat.predict_messages(prompt)"
   ]
  },
  {
   "cell_type": "code",
   "outputs": [
    {
     "data": {
      "text/plain": "['Hello', 'How', 'are', 'you?']"
     },
     "execution_count": 4,
     "metadata": {},
     "output_type": "execute_result"
    }
   ],
   "source": [
    "from langchain.schema import BaseOutputParser\n",
    "\n",
    "class CommaOutputParser(BaseOutputParser):\n",
    "    \n",
    "    def parse(self, text: str):\n",
    "        items = text.strip().split(\",\")\n",
    "        return list(map(str.strip, items))\n",
    "    \n",
    "p = CommaOutputParser()\n",
    "\n",
    "p.parse(\"Hello, How, are, you?\")"
   ],
   "metadata": {
    "collapsed": false,
    "ExecuteTime": {
     "end_time": "2024-01-24T06:30:27.504542Z",
     "start_time": "2024-01-24T06:30:27.500812Z"
    }
   },
   "id": "6c772afc908e37b4",
   "execution_count": 4
  },
  {
   "cell_type": "code",
   "outputs": [
    {
     "data": {
      "text/plain": "['서울의 1월 평균 기온은 보통 -2도에서 2도 사이입니다. 그러나 강한 추위로 인해 영하 온도가 될 수도 있으니 따뜻한 옷을 준비하는 것이 좋아요.']"
     },
     "execution_count": 12,
     "metadata": {},
     "output_type": "execute_result"
    }
   ],
   "source": [
    "chain = template | chat | CommaOutputParser()\n",
    "chain.invoke({})"
   ],
   "metadata": {
    "collapsed": false,
    "ExecuteTime": {
     "end_time": "2024-01-24T06:35:40.648826Z",
     "start_time": "2024-01-24T06:35:35.418759Z"
    }
   },
   "id": "94fffbb98732b957",
   "execution_count": 12
  },
  {
   "cell_type": "code",
   "outputs": [
    {
     "name": "stdout",
     "output_type": "stream",
     "text": [
      "AI: \n",
      "        I know this:\n",
      "        Capital: Seoul\n",
      "        Language: Korean\n",
      "        Food: Kimchi and Bibimbap\n",
      "        Currency: South Korean won"
     ]
    },
    {
     "data": {
      "text/plain": "AIMessageChunk(content='AI: \\n        I know this:\\n        Capital: Seoul\\n        Language: Korean\\n        Food: Kimchi and Bibimbap\\n        Currency: South Korean won')"
     },
     "execution_count": 15,
     "metadata": {},
     "output_type": "execute_result"
    }
   ],
   "source": [
    "# 4.1  24.02.01\n",
    "from langchain.chat_models import ChatOpenAI\n",
    "from langchain.prompts import PromptTemplate\n",
    "from langchain.prompts.few_shot import FewShotPromptTemplate\n",
    "from langchain.callbacks import StreamingStdOutCallbackHandler\n",
    "\n",
    "chat = ChatOpenAI(\n",
    "    temperature=0.1,\n",
    "    streaming=True,\n",
    "    callbacks=[\n",
    "        StreamingStdOutCallbackHandler(),\n",
    "    ]\n",
    ")\n",
    "\n",
    "examples = [\n",
    "    {\n",
    "        \"question\": \"What do you know about France?\",\n",
    "        \"answer\": \"\"\"\n",
    "        Here is what I know:\n",
    "        Capital: Paris\n",
    "        Language: French\n",
    "        Food: Wine and Cheese\n",
    "        Currency: Euro\n",
    "        \"\"\",\n",
    "    },\n",
    "    {\n",
    "        \"question\": \"What do you know about Italy?\",\n",
    "        \"answer\": \"\"\"\n",
    "        I know this:\n",
    "        Capital: Rome\n",
    "        Language: Italian\n",
    "        Food: Pizza and Pasta\n",
    "        Currency: Euro\n",
    "        \"\"\",\n",
    "    },\n",
    "    {\n",
    "        \"question\": \"What do you know about Greece?\",\n",
    "        \"answer\": \"\"\"\n",
    "        I know this:\n",
    "        Capital: Athens\n",
    "        Language: Greek\n",
    "        Food: Souvlaki and Feta Cheese\n",
    "        Currency: Euro\n",
    "        \"\"\",\n",
    "    },\n",
    "]\n",
    "\n",
    "# chat.predict(\"What do you know about Korean?\")\n",
    "\n",
    "example_prompt = PromptTemplate.from_template(\"Human: {question}\\nAI: {answer}\")\n",
    "\n",
    "prompt = FewShotPromptTemplate(\n",
    "    example_prompt=example_prompt,\n",
    "    examples=examples,\n",
    "    suffix=\"Human: What do you know about {country}?\",\n",
    "    input_variables=[\"country\"]\n",
    ")\n",
    "\n",
    "# prompt.format(country=\"Italian\")\n",
    "\n",
    "chain = prompt | chat\n",
    "chain.invoke({\"country\": \"Korea\"})"
   ],
   "metadata": {
    "collapsed": false,
    "ExecuteTime": {
     "end_time": "2024-02-01T06:59:27.349072Z",
     "start_time": "2024-02-01T06:59:25.093886Z"
    }
   },
   "id": "df1bf70c6488b5aa",
   "execution_count": 15
  },
  {
   "cell_type": "code",
   "outputs": [
    {
     "name": "stdout",
     "output_type": "stream",
     "text": [
      "\n",
      "        I know this:\n",
      "        Capital: Bangkok\n",
      "        Language: Thai\n",
      "        Food: Pad Thai and Tom Yum Soup\n",
      "        Currency: Thai Baht\n",
      "        "
     ]
    },
    {
     "data": {
      "text/plain": "AIMessageChunk(content='\\n        I know this:\\n        Capital: Bangkok\\n        Language: Thai\\n        Food: Pad Thai and Tom Yum Soup\\n        Currency: Thai Baht\\n        ')"
     },
     "execution_count": 16,
     "metadata": {},
     "output_type": "execute_result"
    }
   ],
   "source": [
    "# 4.2  24.02.01\n",
    "from langchain.chat_models import ChatOpenAI\n",
    "from langchain.prompts.few_shot import FewShotChatMessagePromptTemplate\n",
    "from langchain.callbacks import StreamingStdOutCallbackHandler\n",
    "from langchain.prompts import ChatMessagePromptTemplate, ChatPromptTemplate\n",
    "\n",
    "chat = ChatOpenAI(\n",
    "    temperature=0.1,\n",
    "    streaming=True,\n",
    "    callbacks=[\n",
    "        StreamingStdOutCallbackHandler(),\n",
    "    ],\n",
    ")\n",
    "\n",
    "\n",
    "examples = [\n",
    "    {\n",
    "        \"country\": \"France\",\n",
    "        \"answer\": \"\"\"\n",
    "        Here is what I know:\n",
    "        Capital: Paris\n",
    "        Language: French\n",
    "        Food: Wine and Cheese\n",
    "        Currency: Euro\n",
    "        \"\"\",\n",
    "    },\n",
    "    {\n",
    "        \"country\": \"Italy\",\n",
    "        \"answer\": \"\"\"\n",
    "        I know this:\n",
    "        Capital: Rome\n",
    "        Language: Italian\n",
    "        Food: Pizza and Pasta\n",
    "        Currency: Euro\n",
    "        \"\"\",\n",
    "    },\n",
    "    {\n",
    "        \"country\": \"Greece\",\n",
    "        \"answer\": \"\"\"\n",
    "        I know this:\n",
    "        Capital: Athens\n",
    "        Language: Greek\n",
    "        Food: Souvlaki and Feta Cheese\n",
    "        Currency: Euro\n",
    "        \"\"\",\n",
    "    },\n",
    "]\n",
    "\n",
    "\n",
    "example_prompt = ChatPromptTemplate.from_messages(\n",
    "    [\n",
    "        (\"human\", \"What do you know about {country}?\"),\n",
    "        (\"ai\", \"{answer}\"),\n",
    "    ]\n",
    ")\n",
    "\n",
    "example_prompt = FewShotChatMessagePromptTemplate(\n",
    "    example_prompt=example_prompt,\n",
    "    examples=examples,\n",
    ")\n",
    "\n",
    "final_prompt = ChatPromptTemplate.from_messages(\n",
    "    [\n",
    "        (\"system\", \"You are a geography expert, you give short answers.\"),\n",
    "        example_prompt,\n",
    "        (\"human\", \"What do you know about {country}?\"),\n",
    "    ]\n",
    ")\n",
    "\n",
    "chain = final_prompt | chat\n",
    "\n",
    "chain.invoke({\"country\": \"Thailand\"})"
   ],
   "metadata": {
    "collapsed": false,
    "ExecuteTime": {
     "end_time": "2024-02-01T07:17:41.440573Z",
     "start_time": "2024-02-01T07:17:39.049231Z"
    }
   },
   "id": "4c8a80f1ff29fbe7",
   "execution_count": 16
  },
  {
   "cell_type": "code",
   "outputs": [
    {
     "data": {
      "text/plain": "'What is the capital of Germany'"
     },
     "execution_count": 26,
     "metadata": {},
     "output_type": "execute_result"
    }
   ],
   "source": [
    "from langchain.chat_models import ChatOpenAI\n",
    "from langchain.callbacks import StreamingStdOutCallbackHandler\n",
    "from langchain.prompts import load_prompt\n",
    "\n",
    "prompt = load_prompt(\"./prompt.yaml\")\n",
    "\n",
    "chat = ChatOpenAI(\n",
    "    temperature=0.1,\n",
    "    streaming=True,\n",
    "    callbacks=[\n",
    "        StreamingStdOutCallbackHandler(),\n",
    "    ],\n",
    ")\n",
    "\n",
    "prompt.format(country=\"Germany\")"
   ],
   "metadata": {
    "collapsed": false,
    "ExecuteTime": {
     "end_time": "2024-02-01T07:56:04.672004Z",
     "start_time": "2024-02-01T07:56:04.659815Z"
    }
   },
   "id": "791966437b7eb6e0",
   "execution_count": 26
  },
  {
   "cell_type": "code",
   "outputs": [
    {
     "data": {
      "text/plain": "'Human: What do you know about Greece?\\nAI:\\n        I know this:\\n        Capital: Athens\\n        Language: Greek\\n        Food: Souvlaki and Feta Cheese\\n        Currency: Euro\\n        \\n\\nHuman: What do you know about Brazil?'"
     },
     "execution_count": 24,
     "metadata": {},
     "output_type": "execute_result"
    }
   ],
   "source": [
    "from langchain.chat_models import ChatOpenAI\n",
    "from langchain.prompts import example_selector\n",
    "from langchain.prompts.few_shot import FewShotPromptTemplate\n",
    "from langchain.callbacks import StreamingStdOutCallbackHandler\n",
    "from langchain.prompts.prompt import PromptTemplate\n",
    "from langchain.prompts.example_selector.base import BaseExampleSelector\n",
    "from langchain.prompts.example_selector import LengthBasedExampleSelector\n",
    "\n",
    "\n",
    "chat = ChatOpenAI(\n",
    "    temperature=0.1,\n",
    "    streaming=True,\n",
    "    callbacks=[\n",
    "        StreamingStdOutCallbackHandler(),\n",
    "    ],\n",
    ")\n",
    "\n",
    "\n",
    "examples = [\n",
    "    {\n",
    "        \"question\": \"What do you know about France?\",\n",
    "        \"answer\": \"\"\"\n",
    "        Here is what I know:\n",
    "        Capital: Paris\n",
    "        Language: French\n",
    "        Food: Wine and Cheese\n",
    "        Currency: Euro\n",
    "        \"\"\",\n",
    "    },\n",
    "    {\n",
    "        \"question\": \"What do you know about Italy?\",\n",
    "        \"answer\": \"\"\"\n",
    "        I know this:\n",
    "        Capital: Rome\n",
    "        Language: Italian\n",
    "        Food: Pizza and Pasta\n",
    "        Currency: Euro\n",
    "        \"\"\",\n",
    "    },\n",
    "    {\n",
    "        \"question\": \"What do you know about Greece?\",\n",
    "        \"answer\": \"\"\"\n",
    "        I know this:\n",
    "        Capital: Athens\n",
    "        Language: Greek\n",
    "        Food: Souvlaki and Feta Cheese\n",
    "        Currency: Euro\n",
    "        \"\"\",\n",
    "    },\n",
    "]\n",
    "\n",
    "\n",
    "class RandomExampleSelector(BaseExampleSelector):\n",
    "    def __init__(self, examples):\n",
    "        self.examples = examples\n",
    "\n",
    "    def add_example(self, example):\n",
    "        self.examples.append(example)\n",
    "\n",
    "    def select_examples(self, input_variables):\n",
    "        from random import choice\n",
    "\n",
    "        return [choice(self.examples)]\n",
    "\n",
    "\n",
    "example_prompt = PromptTemplate.from_template(\"Human: {question}\\nAI:{answer}\")\n",
    "\n",
    "# example_selector = LengthBasedExampleSelector(\n",
    "#     examples=examples,\n",
    "#     example_prompt=example_prompt,\n",
    "#     max_length=10\n",
    "# )\n",
    "\n",
    "example_selector = RandomExampleSelector(\n",
    "    examples=examples,\n",
    ")\n",
    "\n",
    "prompt = FewShotPromptTemplate(\n",
    "    example_prompt=example_prompt,\n",
    "    example_selector=example_selector,\n",
    "    suffix=\"Human: What do you know about {country}?\",\n",
    "    input_variables=[\"country\"],\n",
    ")\n",
    "\n",
    "prompt.format(country=\"Brazil\")"
   ],
   "metadata": {
    "collapsed": false,
    "ExecuteTime": {
     "end_time": "2024-02-01T07:36:19.232716Z",
     "start_time": "2024-02-01T07:36:19.184194Z"
    }
   },
   "id": "853c5e47c21d4259",
   "execution_count": 24
  },
  {
   "cell_type": "code",
   "outputs": [
    {
     "name": "stdout",
     "output_type": "stream",
     "text": [
      "Arrrrg! Me favorite food be a good ol' plate o' fish and chips! The salty sea air makes me crave the taste of fresh fish, fried to perfection and served with a side of crispy golden chips. It be a meal fit for a pirate like meself! Arg arg!"
     ]
    },
    {
     "data": {
      "text/plain": "AIMessageChunk(content=\"Arrrrg! Me favorite food be a good ol' plate o' fish and chips! The salty sea air makes me crave the taste of fresh fish, fried to perfection and served with a side of crispy golden chips. It be a meal fit for a pirate like meself! Arg arg!\")"
     },
     "execution_count": 27,
     "metadata": {},
     "output_type": "execute_result"
    }
   ],
   "source": [
    "from langchain.chat_models import ChatOpenAI\n",
    "from langchain.callbacks import StreamingStdOutCallbackHandler\n",
    "from langchain.prompts import PromptTemplate\n",
    "from langchain.prompts.pipeline import PipelinePromptTemplate\n",
    "\n",
    "chat = ChatOpenAI(\n",
    "    temperature=0.1,\n",
    "    streaming=True,\n",
    "    callbacks=[\n",
    "        StreamingStdOutCallbackHandler(),\n",
    "    ],\n",
    ")\n",
    "\n",
    "intro = PromptTemplate.from_template(\n",
    "    \"\"\"\n",
    "    You are a role playing assistant.\n",
    "    And you are impersonating a {character}\n",
    "\"\"\"\n",
    ")\n",
    "\n",
    "example = PromptTemplate.from_template(\n",
    "    \"\"\"\n",
    "    This is an example of how you talk:\n",
    "\n",
    "    Human: {example_question}\n",
    "    You: {example_answer}\n",
    "\"\"\"\n",
    ")\n",
    "\n",
    "start = PromptTemplate.from_template(\n",
    "    \"\"\"\n",
    "    Start now!\n",
    "\n",
    "    Human: {question}\n",
    "    You:\n",
    "\"\"\"\n",
    ")\n",
    "\n",
    "final = PromptTemplate.from_template(\n",
    "    \"\"\"\n",
    "    {intro}\n",
    "                                     \n",
    "    {example}\n",
    "                              \n",
    "    {start}\n",
    "\"\"\"\n",
    ")\n",
    "\n",
    "prompts = [\n",
    "    (\"intro\", intro),\n",
    "    (\"example\", example),\n",
    "    (\"start\", start),\n",
    "]\n",
    "\n",
    "\n",
    "full_prompt = PipelinePromptTemplate(\n",
    "    final_prompt=final,\n",
    "    pipeline_prompts=prompts,\n",
    ")\n",
    "\n",
    "\n",
    "chain = full_prompt | chat\n",
    "\n",
    "chain.invoke(\n",
    "    {\n",
    "        \"character\": \"Pirate\",\n",
    "        \"example_question\": \"What is your location?\",\n",
    "        \"example_answer\": \"Arrrrg! That is a secret!! Arg arg!!\",\n",
    "        \"question\": \"What is your fav food?\",\n",
    "    }\n",
    ")"
   ],
   "metadata": {
    "collapsed": false,
    "ExecuteTime": {
     "end_time": "2024-02-01T08:04:45.435459Z",
     "start_time": "2024-02-01T08:04:41.531952Z"
    }
   },
   "id": "9516544c81e5923f",
   "execution_count": 27
  },
  {
   "cell_type": "code",
   "outputs": [
    {
     "name": "stdout",
     "output_type": "stream",
     "text": [
      "\u001B[32;1m\u001B[1;3m[llm/start]\u001B[0m \u001B[1m[1:llm:ChatOpenAI] Entering LLM run with input:\n",
      "\u001B[0m{\n",
      "  \"prompts\": [\n",
      "    \"Human: How do you make italian pasta\"\n",
      "  ]\n",
      "}\n",
      "\u001B[36;1m\u001B[1;3m[llm/end]\u001B[0m \u001B[1m[1:llm:ChatOpenAI] [20.42s] Exiting LLM run with output:\n",
      "\u001B[0m{\n",
      "  \"generations\": [\n",
      "    [\n",
      "      {\n",
      "        \"text\": \"To make Italian pasta, you will need the following ingredients:\\n\\n- 2 cups of all-purpose flour\\n- 2 large eggs\\n- 1/2 teaspoon of salt\\n- Water (if needed)\\n\\nHere's a step-by-step guide to making Italian pasta:\\n\\n1. On a clean surface or in a large mixing bowl, create a well with the flour. Make sure the well is wide enough to hold the eggs.\\n\\n2. Crack the eggs into the well and add the salt.\\n\\n3. Using a fork, beat the eggs and gradually start incorporating the flour from the sides of the well. Continue mixing until the dough starts to come together.\\n\\n4. Once the dough becomes too difficult to mix with a fork, use your hands to knead it. Knead the dough for about 5-10 minutes until it becomes smooth and elastic. If the dough feels too dry, you can add a little water, one tablespoon at a time, until it reaches the desired consistency.\\n\\n5. Once the dough is ready, shape it into a ball and cover it with a clean kitchen towel or plastic wrap. Let it rest for at least 30 minutes to allow the gluten to relax.\\n\\n6. After resting, divide the dough into smaller portions. Flatten each portion with a rolling pin or a pasta machine until it reaches the desired thickness. You can make it as thin or thick as you prefer.\\n\\n7. Once the dough is rolled out, you can cut it into various pasta shapes. For example, you can make fettuccine, spaghetti, lasagna sheets, or ravioli. Use a sharp knife or a pasta machine to cut the dough into your desired shapes.\\n\\n8. As you cut the pasta, dust it with flour to prevent sticking. You can also hang the pasta on a drying rack or lay it flat on a clean surface until you're ready to cook it.\\n\\n9. To cook the pasta, bring a large pot of salted water to a boil. Add the pasta and cook it according to the package instructions or until it reaches your desired level of doneness. Fresh pasta usually cooks much faster than dried pasta, so keep an eye on it.\\n\\n10. Once the pasta is cooked, drain it well and serve it with your favorite sauce or toppings. You can enjoy it with classic Italian sauces like marinara, carbonara, pesto, or Alfredo.\\n\\nRemember, making pasta from scratch requires practice, so don't be discouraged if your first attempt isn't perfect. With time and experience, you'll be able to master the art of Italian pasta-making.\",\n",
      "        \"generation_info\": {\n",
      "          \"finish_reason\": \"stop\"\n",
      "        },\n",
      "        \"type\": \"ChatGeneration\",\n",
      "        \"message\": {\n",
      "          \"lc\": 1,\n",
      "          \"type\": \"constructor\",\n",
      "          \"id\": [\n",
      "            \"langchain\",\n",
      "            \"schema\",\n",
      "            \"messages\",\n",
      "            \"AIMessage\"\n",
      "          ],\n",
      "          \"kwargs\": {\n",
      "            \"content\": \"To make Italian pasta, you will need the following ingredients:\\n\\n- 2 cups of all-purpose flour\\n- 2 large eggs\\n- 1/2 teaspoon of salt\\n- Water (if needed)\\n\\nHere's a step-by-step guide to making Italian pasta:\\n\\n1. On a clean surface or in a large mixing bowl, create a well with the flour. Make sure the well is wide enough to hold the eggs.\\n\\n2. Crack the eggs into the well and add the salt.\\n\\n3. Using a fork, beat the eggs and gradually start incorporating the flour from the sides of the well. Continue mixing until the dough starts to come together.\\n\\n4. Once the dough becomes too difficult to mix with a fork, use your hands to knead it. Knead the dough for about 5-10 minutes until it becomes smooth and elastic. If the dough feels too dry, you can add a little water, one tablespoon at a time, until it reaches the desired consistency.\\n\\n5. Once the dough is ready, shape it into a ball and cover it with a clean kitchen towel or plastic wrap. Let it rest for at least 30 minutes to allow the gluten to relax.\\n\\n6. After resting, divide the dough into smaller portions. Flatten each portion with a rolling pin or a pasta machine until it reaches the desired thickness. You can make it as thin or thick as you prefer.\\n\\n7. Once the dough is rolled out, you can cut it into various pasta shapes. For example, you can make fettuccine, spaghetti, lasagna sheets, or ravioli. Use a sharp knife or a pasta machine to cut the dough into your desired shapes.\\n\\n8. As you cut the pasta, dust it with flour to prevent sticking. You can also hang the pasta on a drying rack or lay it flat on a clean surface until you're ready to cook it.\\n\\n9. To cook the pasta, bring a large pot of salted water to a boil. Add the pasta and cook it according to the package instructions or until it reaches your desired level of doneness. Fresh pasta usually cooks much faster than dried pasta, so keep an eye on it.\\n\\n10. Once the pasta is cooked, drain it well and serve it with your favorite sauce or toppings. You can enjoy it with classic Italian sauces like marinara, carbonara, pesto, or Alfredo.\\n\\nRemember, making pasta from scratch requires practice, so don't be discouraged if your first attempt isn't perfect. With time and experience, you'll be able to master the art of Italian pasta-making.\",\n",
      "            \"additional_kwargs\": {}\n",
      "          }\n",
      "        }\n",
      "      }\n",
      "    ]\n",
      "  ],\n",
      "  \"llm_output\": {\n",
      "    \"token_usage\": {\n",
      "      \"prompt_tokens\": 13,\n",
      "      \"completion_tokens\": 522,\n",
      "      \"total_tokens\": 535\n",
      "    },\n",
      "    \"model_name\": \"gpt-3.5-turbo\",\n",
      "    \"system_fingerprint\": null\n",
      "  },\n",
      "  \"run\": null\n",
      "}\n"
     ]
    },
    {
     "data": {
      "text/plain": "\"To make Italian pasta, you will need the following ingredients:\\n\\n- 2 cups of all-purpose flour\\n- 2 large eggs\\n- 1/2 teaspoon of salt\\n- Water (if needed)\\n\\nHere's a step-by-step guide to making Italian pasta:\\n\\n1. On a clean surface or in a large mixing bowl, create a well with the flour. Make sure the well is wide enough to hold the eggs.\\n\\n2. Crack the eggs into the well and add the salt.\\n\\n3. Using a fork, beat the eggs and gradually start incorporating the flour from the sides of the well. Continue mixing until the dough starts to come together.\\n\\n4. Once the dough becomes too difficult to mix with a fork, use your hands to knead it. Knead the dough for about 5-10 minutes until it becomes smooth and elastic. If the dough feels too dry, you can add a little water, one tablespoon at a time, until it reaches the desired consistency.\\n\\n5. Once the dough is ready, shape it into a ball and cover it with a clean kitchen towel or plastic wrap. Let it rest for at least 30 minutes to allow the gluten to relax.\\n\\n6. After resting, divide the dough into smaller portions. Flatten each portion with a rolling pin or a pasta machine until it reaches the desired thickness. You can make it as thin or thick as you prefer.\\n\\n7. Once the dough is rolled out, you can cut it into various pasta shapes. For example, you can make fettuccine, spaghetti, lasagna sheets, or ravioli. Use a sharp knife or a pasta machine to cut the dough into your desired shapes.\\n\\n8. As you cut the pasta, dust it with flour to prevent sticking. You can also hang the pasta on a drying rack or lay it flat on a clean surface until you're ready to cook it.\\n\\n9. To cook the pasta, bring a large pot of salted water to a boil. Add the pasta and cook it according to the package instructions or until it reaches your desired level of doneness. Fresh pasta usually cooks much faster than dried pasta, so keep an eye on it.\\n\\n10. Once the pasta is cooked, drain it well and serve it with your favorite sauce or toppings. You can enjoy it with classic Italian sauces like marinara, carbonara, pesto, or Alfredo.\\n\\nRemember, making pasta from scratch requires practice, so don't be discouraged if your first attempt isn't perfect. With time and experience, you'll be able to master the art of Italian pasta-making.\""
     },
     "execution_count": 5,
     "metadata": {},
     "output_type": "execute_result"
    }
   ],
   "source": [
    "from langchain.chat_models import ChatOpenAI\n",
    "from langchain.callbacks import StreamingStdOutCallbackHandler\n",
    "from langchain.globals import set_llm_cache, set_debug\n",
    "from langchain.cache import InMemoryCache, SQLiteCache\n",
    "\n",
    "# set_llm_cache(InMemoryCache())\n",
    "set_llm_cache(SQLiteCache(\"cache.db\"))\n",
    "set_debug(True)\n",
    "chat = ChatOpenAI(\n",
    "    temperature=0.1\n",
    ")\n",
    "\n",
    "chat.predict(\"How do you make italian pasta\")"
   ],
   "metadata": {
    "collapsed": false,
    "ExecuteTime": {
     "end_time": "2024-02-02T09:24:37.237917Z",
     "start_time": "2024-02-02T09:24:16.795353Z"
    }
   },
   "id": "5e16c75bf708998d",
   "execution_count": 5
  },
  {
   "cell_type": "code",
   "outputs": [
    {
     "name": "stdout",
     "output_type": "stream",
     "text": [
      "To make Italian pasta, you will need the following ingredients:\n",
      "\n",
      "- 2 cups of all-purpose flour\n",
      "- 2 large eggs\n",
      "- 1/2 teaspoon of salt\n",
      "- Water (if needed)\n",
      "\n",
      "Here's a step-by-step guide to making Italian pasta:\n",
      "\n",
      "1. On a clean surface or in a large mixing bowl, pour the flour and create a well in the center.\n",
      "2. Crack the eggs into the well and add the salt.\n",
      "3. Using a fork or your fingers, gradually mix the eggs and salt into the flour, incorporating a little at a time.\n",
      "4. Once the dough starts to come together, knead it with your hands until it forms a smooth and elastic ball. If the dough is too dry, you can add a little water, teaspoon by teaspoon, until it reaches the desired consistency.\n",
      "5. Once the dough is formed, cover it with a clean kitchen towel or plastic wrap and let it rest for about 30 minutes. This will allow the gluten to relax and make the dough easier to work with.\n",
      "6. After resting, divide the dough into smaller portions. Take one portion and flatten it with your hands or a rolling pin until it is about 1/4 inch thick.\n",
      "7. If you have a pasta machine, pass the dough through the machine, starting with the widest setting and gradually reducing the thickness until you reach the desired thickness for your pasta. If you don't have a pasta machine, you can use a rolling pin to roll out the dough as thin as possible.\n",
      "8. Once the dough is rolled out, you can cut it into your desired pasta shape. For example, you can cut it into thin strips for spaghetti or fettuccine, or into squares for ravioli.\n",
      "9. After cutting the pasta, you can cook it immediately in a large pot of salted boiling water for about 2-3 minutes, or until al dente. Alternatively, you can let the pasta dry for a few hours or overnight before cooking.\n",
      "10. Serve the cooked pasta with your favorite sauce, such as marinara, Alfredo, or pesto.\n",
      "\n",
      "Enjoy your homemade Italian pasta! To make Korean soju, you will need the following ingredients and equipment:\n",
      "\n",
      "Ingredients:\n",
      "- 1.5 kilograms of rice\n",
      "- 1 kilogram of nuruk (a Korean fermentation starter)\n",
      "- 10 liters of water\n",
      "- 400 grams of yeast\n",
      "- 400 grams of sugar\n",
      "\n",
      "Equipment:\n",
      "- Large pot or cauldron\n",
      "- Thermometer\n",
      "- Fermentation vessel (preferably made of glass or ceramic)\n",
      "- Cheesecloth or a clean cloth for covering the vessel\n",
      "- Airtight bottles for storing the finished soju\n",
      "\n",
      "Here are the steps to make Korean soju:\n",
      "\n",
      "1. Rinse the rice thoroughly to remove any impurities. Soak the rice in water for about 2 hours, then drain.\n",
      "\n",
      "2. Cook the rice in a large pot or cauldron with 10 liters of water. Bring it to a boil and then reduce the heat to low. Simmer the rice until it becomes soft and mushy, stirring occasionally to prevent sticking. This process usually takes about 1-2 hours.\n",
      "\n",
      "3. Once the rice is cooked, remove it from the heat and let it cool down to around 40-45°C (104-113°F). This temperature is crucial for the fermentation process.\n",
      "\n",
      "4. Dissolve the nuruk in a small amount of warm water, then add it to the cooled rice. Mix well to ensure the nuruk is evenly distributed.\n",
      "\n",
      "5. In a separate container, dissolve the yeast and sugar in warm water. Let it sit for about 10 minutes until it becomes frothy.\n",
      "\n",
      "6. Add the yeast mixture to the rice and nuruk mixture. Stir well to combine all the ingredients.\n",
      "\n",
      "7. Transfer the mixture into a fermentation vessel, leaving some space at the top for the fermentation process. Cover the vessel with cheesecloth or a clean cloth to allow air circulation while preventing dust or insects from entering.\n",
      "\n",
      "8. Place the vessel in a warm and dark location, ideally around 25-30°C (77-86°F). Let it ferment for about 7-10 days. During this time, the mixture will undergo fermentation, converting the starches in the rice into alcohol.\n",
      "\n",
      "9. After the fermentation period, strain the mixture through a cheesecloth or fine mesh strainer to remove any solids. The liquid obtained is the soju.\n",
      "\n",
      "10. Transfer the soju into airtight bottles for storage. It is recommended to let the soju age for at least a month to develop its flavor before consuming.\n",
      "\n",
      "Note: The above process is a simplified version of making soju at home. Traditional soju production involves more complex steps and equipment. Additionally, please be aware of local laws and regulations regarding homemade alcohol production and consumption. \n",
      "\n",
      "Tokens Used: 1014\n",
      "\tPrompt Tokens: 28\n",
      "\tCompletion Tokens: 986\n",
      "Successful Requests: 2\n",
      "Total Cost (USD): $0.002014\n"
     ]
    }
   ],
   "source": [
    "from langchain.chat_models import ChatOpenAI\n",
    "from langchain.callbacks import get_openai_callback\n",
    "\n",
    "chat = ChatOpenAI(\n",
    "    temperature=0.1\n",
    ")\n",
    "\n",
    "with get_openai_callback() as callback:\n",
    "    a = chat.predict(\"How do you make italian pasta\")\n",
    "    b = chat.predict(\"How do you make korean soju\")\n",
    "    print(a, b, \"\\n\")\n",
    "    print(callback)"
   ],
   "metadata": {
    "collapsed": false,
    "ExecuteTime": {
     "end_time": "2024-02-02T09:41:10.721626Z",
     "start_time": "2024-02-02T09:40:28.761354Z"
    }
   },
   "id": "e8e295944528e6ed",
   "execution_count": 2
  },
  {
   "cell_type": "code",
   "outputs": [
    {
     "ename": "ValueError",
     "evalue": "Loading openai-chat LLM not supported",
     "output_type": "error",
     "traceback": [
      "\u001B[0;31m---------------------------------------------------------------------------\u001B[0m",
      "\u001B[0;31mValueError\u001B[0m                                Traceback (most recent call last)",
      "Cell \u001B[0;32mIn[12], line 13\u001B[0m\n\u001B[1;32m      3\u001B[0m \u001B[38;5;28;01mfrom\u001B[39;00m \u001B[38;5;21;01mlangchain\u001B[39;00m\u001B[38;5;21;01m.\u001B[39;00m\u001B[38;5;21;01mllms\u001B[39;00m\u001B[38;5;21;01m.\u001B[39;00m\u001B[38;5;21;01mloading\u001B[39;00m \u001B[38;5;28;01mimport\u001B[39;00m load_llm\n\u001B[1;32m      5\u001B[0m \u001B[38;5;66;03m# chat = load_llm(\"model.json\")\u001B[39;00m\n\u001B[1;32m      6\u001B[0m \n\u001B[1;32m      7\u001B[0m \u001B[38;5;66;03m# chat = OpenAI(\u001B[39;00m\n\u001B[0;32m   (...)\u001B[0m\n\u001B[1;32m     10\u001B[0m \u001B[38;5;66;03m#     model_name=\"gpt-3.5-turbo\"\u001B[39;00m\n\u001B[1;32m     11\u001B[0m \u001B[38;5;66;03m# )\u001B[39;00m\n\u001B[0;32m---> 13\u001B[0m chat \u001B[38;5;241m=\u001B[39m \u001B[43mload_llm\u001B[49m\u001B[43m(\u001B[49m\u001B[38;5;124;43m\"\u001B[39;49m\u001B[38;5;124;43mmodel.json\u001B[39;49m\u001B[38;5;124;43m\"\u001B[39;49m\u001B[43m)\u001B[49m\n\u001B[1;32m     14\u001B[0m chat\n\u001B[1;32m     15\u001B[0m \u001B[38;5;66;03m# chat.save(\"model.json\")\u001B[39;00m\n",
      "File \u001B[0;32m~/Documents/Projects/Python-Servers/Fullstack-GPT/venv/lib/python3.11/site-packages/langchain/llms/loading.py:44\u001B[0m, in \u001B[0;36mload_llm\u001B[0;34m(file)\u001B[0m\n\u001B[1;32m     42\u001B[0m     \u001B[38;5;28;01mraise\u001B[39;00m \u001B[38;5;167;01mValueError\u001B[39;00m(\u001B[38;5;124m\"\u001B[39m\u001B[38;5;124mFile type must be json or yaml\u001B[39m\u001B[38;5;124m\"\u001B[39m)\n\u001B[1;32m     43\u001B[0m \u001B[38;5;66;03m# Load the LLM from the config now.\u001B[39;00m\n\u001B[0;32m---> 44\u001B[0m \u001B[38;5;28;01mreturn\u001B[39;00m \u001B[43mload_llm_from_config\u001B[49m\u001B[43m(\u001B[49m\u001B[43mconfig\u001B[49m\u001B[43m)\u001B[49m\n",
      "File \u001B[0;32m~/Documents/Projects/Python-Servers/Fullstack-GPT/venv/lib/python3.11/site-packages/langchain/llms/loading.py:21\u001B[0m, in \u001B[0;36mload_llm_from_config\u001B[0;34m(config)\u001B[0m\n\u001B[1;32m     18\u001B[0m type_to_cls_dict \u001B[38;5;241m=\u001B[39m get_type_to_cls_dict()\n\u001B[1;32m     20\u001B[0m \u001B[38;5;28;01mif\u001B[39;00m config_type \u001B[38;5;129;01mnot\u001B[39;00m \u001B[38;5;129;01min\u001B[39;00m type_to_cls_dict:\n\u001B[0;32m---> 21\u001B[0m     \u001B[38;5;28;01mraise\u001B[39;00m \u001B[38;5;167;01mValueError\u001B[39;00m(\u001B[38;5;124mf\u001B[39m\u001B[38;5;124m\"\u001B[39m\u001B[38;5;124mLoading \u001B[39m\u001B[38;5;132;01m{\u001B[39;00mconfig_type\u001B[38;5;132;01m}\u001B[39;00m\u001B[38;5;124m LLM not supported\u001B[39m\u001B[38;5;124m\"\u001B[39m)\n\u001B[1;32m     23\u001B[0m llm_cls \u001B[38;5;241m=\u001B[39m type_to_cls_dict[config_type]()\n\u001B[1;32m     24\u001B[0m \u001B[38;5;28;01mreturn\u001B[39;00m llm_cls(\u001B[38;5;241m*\u001B[39m\u001B[38;5;241m*\u001B[39mconfig)\n",
      "\u001B[0;31mValueError\u001B[0m: Loading openai-chat LLM not supported"
     ]
    }
   ],
   "source": [
    "from langchain.chat_models import ChatOpenAI\n",
    "from langchain.llms.openai import OpenAI\n",
    "from langchain.llms.loading import load_llm\n",
    "\n",
    "# chat = load_llm(\"model.json\")\n",
    "\n",
    "# chat = OpenAI(\n",
    "#     temperature=0.1,\n",
    "#     max_tokens=450,\n",
    "#     model_name=\"gpt-3.5-turbo\"\n",
    "# )\n",
    "\n",
    "chat = load_llm(\"model.json\")\n",
    "chat\n",
    "# chat.save(\"model.json\")\n"
   ],
   "metadata": {
    "collapsed": false,
    "ExecuteTime": {
     "end_time": "2024-02-02T09:46:52.710583Z",
     "start_time": "2024-02-02T09:46:52.679422Z"
    }
   },
   "id": "9b04c4141b667cb4",
   "execution_count": 12
  },
  {
   "cell_type": "code",
   "outputs": [],
   "source": [],
   "metadata": {
    "collapsed": false
   },
   "id": "e3d68bf3f4a5a037"
  }
 ],
 "metadata": {
  "kernelspec": {
   "display_name": "Python 3",
   "language": "python",
   "name": "python3"
  },
  "language_info": {
   "codemirror_mode": {
    "name": "ipython",
    "version": 2
   },
   "file_extension": ".py",
   "mimetype": "text/x-python",
   "name": "python",
   "nbconvert_exporter": "python",
   "pygments_lexer": "ipython2",
   "version": "2.7.6"
  }
 },
 "nbformat": 4,
 "nbformat_minor": 5
}
