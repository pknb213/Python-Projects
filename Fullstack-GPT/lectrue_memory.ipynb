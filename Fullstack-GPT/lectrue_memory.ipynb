{
 "cells": [
  {
   "cell_type": "code",
   "execution_count": 5,
   "id": "initial_id",
   "metadata": {
    "collapsed": true,
    "ExecuteTime": {
     "end_time": "2024-02-02T09:59:03.995535Z",
     "start_time": "2024-02-02T09:59:03.992336Z"
    }
   },
   "outputs": [
    {
     "data": {
      "text/plain": "{'history': [HumanMessage(content='Hello'), AIMessage(content='How are you?')]}"
     },
     "execution_count": 5,
     "metadata": {},
     "output_type": "execute_result"
    }
   ],
   "source": [
    "from langchain.memory import ConversationBufferMemory\n",
    "\n",
    "memory = ConversationBufferMemory(return_messages=True)\n",
    "\n",
    "memory.save_context({\"input\": \"Hello\"}, {\"output\": \"How are you?\"})\n",
    "\n",
    "memory.load_memory_variables({})\n"
   ]
  },
  {
   "cell_type": "code",
   "outputs": [],
   "source": [
    "from langchain.memory import ConversationBufferWindowMemory\n",
    "\n",
    "memory = ConversationBufferWindowMemory(\n",
    "    return_messages=True,\n",
    "    k=4\n",
    ")\n",
    "\n",
    "def add_message(input, output):\n",
    "    memory.save_context({\"input\": input}, {\"output\": output})\n",
    "\n",
    "add_message(1, 1)"
   ],
   "metadata": {
    "collapsed": false,
    "ExecuteTime": {
     "end_time": "2024-02-02T10:02:08.107399Z",
     "start_time": "2024-02-02T10:02:08.104444Z"
    }
   },
   "id": "e77ec3837cb9c438",
   "execution_count": 7
  },
  {
   "cell_type": "code",
   "outputs": [],
   "source": [
    "add_message(2,2)\n",
    "add_message(3,3)\n",
    "add_message(4,4)"
   ],
   "metadata": {
    "collapsed": false,
    "ExecuteTime": {
     "end_time": "2024-02-02T10:02:21.204307Z",
     "start_time": "2024-02-02T10:02:21.199626Z"
    }
   },
   "id": "be692267c1831df4",
   "execution_count": 8
  },
  {
   "cell_type": "code",
   "outputs": [],
   "source": [
    "add_message(5,5)"
   ],
   "metadata": {
    "collapsed": false,
    "ExecuteTime": {
     "end_time": "2024-02-02T10:02:27.594907Z",
     "start_time": "2024-02-02T10:02:27.588648Z"
    }
   },
   "id": "d925df5c9a2ce19e",
   "execution_count": 9
  },
  {
   "cell_type": "code",
   "outputs": [
    {
     "data": {
      "text/plain": "{'history': [HumanMessage(content='2'),\n  AIMessage(content='2'),\n  HumanMessage(content='3'),\n  AIMessage(content='3'),\n  HumanMessage(content='4'),\n  AIMessage(content='4'),\n  HumanMessage(content='5'),\n  AIMessage(content='5')]}"
     },
     "execution_count": 10,
     "metadata": {},
     "output_type": "execute_result"
    }
   ],
   "source": [
    "memory.load_memory_variables({})"
   ],
   "metadata": {
    "collapsed": false,
    "ExecuteTime": {
     "end_time": "2024-02-02T10:02:33.547829Z",
     "start_time": "2024-02-02T10:02:33.524837Z"
    }
   },
   "id": "dc51f175f225aa7c",
   "execution_count": 10
  },
  {
   "cell_type": "code",
   "outputs": [],
   "source": [
    "from langchain.memory import ConversationSummaryMemory\n",
    "from langchain.chat_models import ChatOpenAI\n",
    "\n",
    "llm = ChatOpenAI(temperature=0.1)\n",
    "\n",
    "memory = ConversationSummaryMemory(llm=llm)\n",
    "\n",
    "def add_message(input, output):\n",
    "    memory.save_context({\"input\": input}, {\"output\": output})\n",
    "\n",
    "\n",
    "def get_history():\n",
    "    return memory.load_memory_variables({})\n",
    "\n",
    "add_message(\"Hi I'm Youngjo, I live in South Korea\", \"Wow that is so cool!\")"
   ],
   "metadata": {
    "collapsed": false,
    "ExecuteTime": {
     "end_time": "2024-02-02T10:06:40.633532Z",
     "start_time": "2024-02-02T10:06:34.046368Z"
    }
   },
   "id": "e6420bc1b0251a87",
   "execution_count": 11
  },
  {
   "cell_type": "code",
   "outputs": [],
   "source": [
    "add_message(\"I'm a software engineer\", \"That's awesome!\")"
   ],
   "metadata": {
    "collapsed": false,
    "ExecuteTime": {
     "end_time": "2024-02-02T10:06:42.312816Z",
     "start_time": "2024-02-02T10:06:40.636826Z"
    }
   },
   "id": "887420b0b2dcc2f5",
   "execution_count": 12
  },
  {
   "cell_type": "code",
   "outputs": [
    {
     "data": {
      "text/plain": "{'history': 'The human introduces themselves as Youngjo from South Korea and mentions that they are a software engineer. The AI expresses excitement and finds it cool.'}"
     },
     "execution_count": 13,
     "metadata": {},
     "output_type": "execute_result"
    }
   ],
   "source": [
    "get_history()"
   ],
   "metadata": {
    "collapsed": false,
    "ExecuteTime": {
     "end_time": "2024-02-02T10:06:43.547826Z",
     "start_time": "2024-02-02T10:06:43.542478Z"
    }
   },
   "id": "70fc95e60cb5df43",
   "execution_count": 13
  },
  {
   "cell_type": "code",
   "outputs": [],
   "source": [
    "from langchain.memory import ConversationSummaryBufferMemory\n",
    "from langchain.chat_models import ChatOpenAI\n",
    "\n",
    "llm = ChatOpenAI(temperature=0.1)\n",
    "\n",
    "memory = ConversationSummaryBufferMemory(\n",
    "    llm=llm, \n",
    "    max_token_limit=150,\n",
    "    return_messages=True\n",
    ")\n",
    "\n",
    "def add_message(input, output):\n",
    "    memory.save_context({\"input\": input}, {\"output\": output})\n",
    "\n",
    "\n",
    "def get_history():\n",
    "    return memory.load_memory_variables({})\n",
    "\n",
    "add_message(\"Hi I'm Youngjo, I live in South Korea\", \"Wow that is so cool!\")"
   ],
   "metadata": {
    "collapsed": false,
    "ExecuteTime": {
     "end_time": "2024-02-02T10:14:53.859962Z",
     "start_time": "2024-02-02T10:14:53.856343Z"
    }
   },
   "id": "48a5b1eb8ff86b2b",
   "execution_count": 16
  },
  {
   "cell_type": "code",
   "outputs": [
    {
     "data": {
      "text/plain": "{'history': [HumanMessage(content=\"Hi I'm Youngjo, I live in South Korea\"),\n  AIMessage(content='Wow that is so cool!')]}"
     },
     "execution_count": 17,
     "metadata": {},
     "output_type": "execute_result"
    }
   ],
   "source": [
    "get_history()"
   ],
   "metadata": {
    "collapsed": false,
    "ExecuteTime": {
     "end_time": "2024-02-02T10:14:54.665862Z",
     "start_time": "2024-02-02T10:14:54.649163Z"
    }
   },
   "id": "1987715aa51bfdf2",
   "execution_count": 17
  },
  {
   "cell_type": "code",
   "outputs": [
    {
     "data": {
      "text/plain": "{'history': [HumanMessage(content=\"Hi I'm Youngjo, I live in South Korea\"),\n  AIMessage(content='Wow that is so cool!'),\n  HumanMessage(content=\"I'm a software engineer\"),\n  AIMessage(content=\"That's awesome!\")]}"
     },
     "execution_count": 18,
     "metadata": {},
     "output_type": "execute_result"
    }
   ],
   "source": [
    "add_message(\"I'm a software engineer\", \"That's awesome!\")\n",
    "get_history()"
   ],
   "metadata": {
    "collapsed": false,
    "ExecuteTime": {
     "end_time": "2024-02-02T10:15:11.505645Z",
     "start_time": "2024-02-02T10:15:11.499740Z"
    }
   },
   "id": "9b8f8eac60baf89b",
   "execution_count": 18
  },
  {
   "cell_type": "code",
   "outputs": [
    {
     "data": {
      "text/plain": "{'history': [HumanMessage(content=\"Hi I'm Youngjo, I live in South Korea\"),\n  AIMessage(content='Wow that is so cool!'),\n  HumanMessage(content=\"I'm a software engineer\"),\n  AIMessage(content=\"That's awesome!\"),\n  HumanMessage(content=\"But, i'm free now\"),\n  AIMessage(content='Please give me the job!')]}"
     },
     "execution_count": 19,
     "metadata": {},
     "output_type": "execute_result"
    }
   ],
   "source": [
    "add_message(\"But, i'm free now\", \"Please give me the job!\")\n",
    "get_history()"
   ],
   "metadata": {
    "collapsed": false,
    "ExecuteTime": {
     "end_time": "2024-02-02T10:15:46.498339Z",
     "start_time": "2024-02-02T10:15:46.492487Z"
    }
   },
   "id": "94ab6b75a84d732b",
   "execution_count": 19
  },
  {
   "cell_type": "code",
   "outputs": [
    {
     "data": {
      "text/plain": "{'history': [SystemMessage(content='Youngjo from South Korea introduces themselves to the AI, mentioning that they are a software engineer. The AI expresses excitement and finds it cool. The AI then jokingly asks Youngjo to give them the job since the human mentions they are free now.'),\n  HumanMessage(content='And She is far away from me.'),\n  AIMessage(content='Oh, holy shit!'),\n  HumanMessage(content='And She is far away from me.'),\n  AIMessage(content='Oh, holy shit!'),\n  HumanMessage(content='And She is far away from me.'),\n  AIMessage(content='Oh, holy shit!'),\n  HumanMessage(content='And She is far away from me.'),\n  AIMessage(content='Oh, holy shit!'),\n  HumanMessage(content='And She is far away from me.'),\n  AIMessage(content='Oh, holy shit!'),\n  HumanMessage(content='And She is far away from me.'),\n  AIMessage(content='Oh, holy shit!')]}"
     },
     "execution_count": 25,
     "metadata": {},
     "output_type": "execute_result"
    }
   ],
   "source": [
    "add_message(\"And She is far away from me.\", \"Oh, holy shit!\")\n",
    "get_history()"
   ],
   "metadata": {
    "collapsed": false,
    "ExecuteTime": {
     "end_time": "2024-02-02T10:16:52.814252Z",
     "start_time": "2024-02-02T10:16:50.024344Z"
    }
   },
   "id": "6007159ef235d29",
   "execution_count": 25
  },
  {
   "cell_type": "code",
   "outputs": [],
   "source": [
    "from langchain.memory import ConversationKGMemory\n",
    "from langchain.chat_models import ChatOpenAI\n",
    "\n",
    "llm = ChatOpenAI(temperature=0.1)\n",
    "\n",
    "memory = ConversationKGMemory(\n",
    "    llm=llm, \n",
    "    return_messages=True\n",
    ")\n",
    "\n",
    "def add_message(input, output):\n",
    "    memory.save_context({\"input\": input}, {\"output\": output})\n",
    "\n",
    "\n",
    "def get_history():\n",
    "    return memory.load_memory_variables({})\n",
    "\n",
    "add_message(\"Hi I'm Youngjo, I live in South Korea\", \"Wow that is so cool!\")"
   ],
   "metadata": {
    "collapsed": false,
    "ExecuteTime": {
     "end_time": "2024-02-02T10:34:33.539068Z",
     "start_time": "2024-02-02T10:34:31.790440Z"
    }
   },
   "id": "d75f00160f52efa9",
   "execution_count": 26
  },
  {
   "cell_type": "code",
   "outputs": [
    {
     "data": {
      "text/plain": "{'history': [SystemMessage(content='On Youngjo: Youngjo is a person. Youngjo lives in South Korea.')]}"
     },
     "execution_count": 27,
     "metadata": {},
     "output_type": "execute_result"
    }
   ],
   "source": [
    "memory.load_memory_variables({\"input\": \"who is Youngjo\"})"
   ],
   "metadata": {
    "collapsed": false,
    "ExecuteTime": {
     "end_time": "2024-02-02T10:34:57.874992Z",
     "start_time": "2024-02-02T10:34:57.020442Z"
    }
   },
   "id": "c0114f60dd2e1c8e",
   "execution_count": 27
  },
  {
   "cell_type": "code",
   "outputs": [],
   "source": [
    "add_message(\"Youngjo, I Like Pasta\", \"Wow that is so cool\")"
   ],
   "metadata": {
    "collapsed": false,
    "ExecuteTime": {
     "end_time": "2024-02-02T10:37:50.203572Z",
     "start_time": "2024-02-02T10:37:49.098171Z"
    }
   },
   "id": "b72305fa67ebacbe",
   "execution_count": 28
  },
  {
   "cell_type": "code",
   "outputs": [
    {
     "data": {
      "text/plain": "{'history': [SystemMessage(content='On Youngjo: Youngjo is a person. Youngjo lives in South Korea. Youngjo likes Pasta.')]}"
     },
     "execution_count": 29,
     "metadata": {},
     "output_type": "execute_result"
    }
   ],
   "source": [
    "memory.load_memory_variables({\"input\": \"what does youngjo like\"})"
   ],
   "metadata": {
    "collapsed": false,
    "ExecuteTime": {
     "end_time": "2024-02-02T10:38:12.597097Z",
     "start_time": "2024-02-02T10:38:11.865207Z"
    }
   },
   "id": "8344ebab05e96361",
   "execution_count": 29
  },
  {
   "cell_type": "code",
   "outputs": [
    {
     "name": "stdout",
     "output_type": "stream",
     "text": [
      "\n",
      "\n",
      "\u001B[1m> Entering new LLMChain chain...\u001B[0m\n",
      "Prompt after formatting:\n",
      "\u001B[32;1m\u001B[1;3m\n",
      "You are a helpful AI talking to a human\n",
      "\n",
      "Human: My name is Youngjo\n",
      "You:\n",
      "\u001B[0m\n",
      "\n",
      "\u001B[1m> Finished chain.\u001B[0m\n"
     ]
    },
    {
     "data": {
      "text/plain": "'Hello Youngjo! How can I assist you today?'"
     },
     "execution_count": 43,
     "metadata": {},
     "output_type": "execute_result"
    }
   ],
   "source": [
    "from langchain.memory import ConversationSummaryBufferMemory\n",
    "from langchain.chat_models import ChatOpenAI\n",
    "from langchain.chains import LLMChain\n",
    "from langchain.prompts import PromptTemplate\n",
    "\n",
    "llm = ChatOpenAI(temperature=0.1)\n",
    "\n",
    "memory = ConversationSummaryBufferMemory(\n",
    "    llm=llm,\n",
    "    max_token_limit=120,\n",
    "    # return_messages=True\n",
    "    memory_key=\"chat_history\"\n",
    ")\n",
    "\n",
    "template = \"\"\"\n",
    "You are a helpful AI talking to a human\n",
    "{chat_history}\n",
    "Human: {question}\n",
    "You:\n",
    "\"\"\"\n",
    "\n",
    "chain = LLMChain(\n",
    "    llm=llm,\n",
    "    memory=memory,\n",
    "    prompt=PromptTemplate.from_template(template),\n",
    "    verbose=True\n",
    ")\n",
    "\n",
    "chain.predict(question=\"My name is Youngjo\")"
   ],
   "metadata": {
    "collapsed": false,
    "ExecuteTime": {
     "end_time": "2024-02-02T11:05:02.889349Z",
     "start_time": "2024-02-02T11:05:01.485048Z"
    }
   },
   "id": "ca73b22f0229adc",
   "execution_count": 43
  },
  {
   "cell_type": "code",
   "outputs": [
    {
     "data": {
      "text/plain": "{'chat_history': 'Human: My name is Youngjo\\nAI: Hello Youngjo! How can I assist you today?'}"
     },
     "execution_count": 44,
     "metadata": {},
     "output_type": "execute_result"
    }
   ],
   "source": [
    "memory.load_memory_variables({})"
   ],
   "metadata": {
    "collapsed": false,
    "ExecuteTime": {
     "end_time": "2024-02-02T11:05:04.644195Z",
     "start_time": "2024-02-02T11:05:04.631438Z"
    }
   },
   "id": "39ed64f932dae2c1",
   "execution_count": 44
  },
  {
   "cell_type": "code",
   "outputs": [
    {
     "name": "stdout",
     "output_type": "stream",
     "text": [
      "\n",
      "\n",
      "\u001B[1m> Entering new LLMChain chain...\u001B[0m\n",
      "Prompt after formatting:\n",
      "\u001B[32;1m\u001B[1;3m\n",
      "You are a helpful AI talking to a human\n",
      "Human: My name is Youngjo\n",
      "AI: Hello Youngjo! How can I assist you today?\n",
      "Human: I live in Seoul\n",
      "You:\n",
      "\u001B[0m\n",
      "\n",
      "\u001B[1m> Finished chain.\u001B[0m\n"
     ]
    },
    {
     "data": {
      "text/plain": "\"That's great! Seoul is a vibrant city with a rich history and culture. How can I assist you with anything related to Seoul?\""
     },
     "execution_count": 45,
     "metadata": {},
     "output_type": "execute_result"
    }
   ],
   "source": [
    "chain.predict(question=\"I live in Seoul\")"
   ],
   "metadata": {
    "collapsed": false,
    "ExecuteTime": {
     "end_time": "2024-02-02T11:05:07.864328Z",
     "start_time": "2024-02-02T11:05:06.240098Z"
    }
   },
   "id": "bdf6c31b9c651d04",
   "execution_count": 45
  },
  {
   "cell_type": "code",
   "outputs": [
    {
     "name": "stdout",
     "output_type": "stream",
     "text": [
      "\n",
      "\n",
      "\u001B[1m> Entering new LLMChain chain...\u001B[0m\n",
      "Prompt after formatting:\n",
      "\u001B[32;1m\u001B[1;3m\n",
      "You are a helpful AI talking to a human\n",
      "Human: My name is Youngjo\n",
      "AI: Hello Youngjo! How can I assist you today?\n",
      "Human: I live in Seoul\n",
      "AI: That's great! Seoul is a vibrant city with a rich history and culture. How can I assist you with anything related to Seoul?\n",
      "Human: What is my name?\n",
      "You:\n",
      "\u001B[0m\n",
      "\n",
      "\u001B[1m> Finished chain.\u001B[0m\n"
     ]
    },
    {
     "data": {
      "text/plain": "'Your name is Youngjo.'"
     },
     "execution_count": 46,
     "metadata": {},
     "output_type": "execute_result"
    }
   ],
   "source": [
    "chain.predict(question=\"What is my name?\")"
   ],
   "metadata": {
    "collapsed": false,
    "ExecuteTime": {
     "end_time": "2024-02-02T11:05:10.783385Z",
     "start_time": "2024-02-02T11:05:10.007835Z"
    }
   },
   "id": "c4bd98a3310b8799",
   "execution_count": 46
  },
  {
   "cell_type": "code",
   "outputs": [],
   "source": [],
   "metadata": {
    "collapsed": false
   },
   "id": "d2bbf12d1fca77bb"
  }
 ],
 "metadata": {
  "kernelspec": {
   "display_name": "Python 3",
   "language": "python",
   "name": "python3"
  },
  "language_info": {
   "codemirror_mode": {
    "name": "ipython",
    "version": 2
   },
   "file_extension": ".py",
   "mimetype": "text/x-python",
   "name": "python",
   "nbconvert_exporter": "python",
   "pygments_lexer": "ipython2",
   "version": "2.7.6"
  }
 },
 "nbformat": 4,
 "nbformat_minor": 5
}
