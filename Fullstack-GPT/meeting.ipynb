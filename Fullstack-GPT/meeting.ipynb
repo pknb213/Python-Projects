{
 "cells": [
  {
   "cell_type": "code",
   "id": "initial_id",
   "metadata": {
    "collapsed": true,
    "ExecuteTime": {
     "end_time": "2024-08-12T07:27:44.993115Z",
     "start_time": "2024-08-12T07:26:45.856476Z"
    }
   },
   "source": [
    "import math\n",
    "import subprocess\n",
    "\n",
    "\n",
    "def extract_audio_from_video(video_path, audio_path):\n",
    "    command = f\"ffmpeg -i {video_path} -vn {audio_path}\"\n",
    "    subprocess.run(command, shell=True)\n",
    "    \n",
    "def cut_audio_in_chunks(audio_path, chunk_size, chunks_folder):\n",
    "    track = AudioSegment.from_mp3(audio_path)\n",
    "    chunk_len = 1000 * 60 * chunk_size\n",
    "    chunks = math.ceil(len(track) / chunk_len)\n",
    "    for i in range(chunks):\n",
    "        start_time = i * ten_minutes\n",
    "        end_time = (i + 1) * ten_minutes\n",
    "        \n",
    "        chunk = track[start_time:end_time]\n",
    "        chunk.export(f\"{chunks_folder}/chunk_{i}.mp3\", format=\"mp3\")\n",
    "    \n",
    "# extract_audio_from_video(\"files/worlds_semi_final.mp4\", \"files/audio.mp3\")\n",
    "cut_audio_in_chunks(\"files/audio.mp3\", 10, \"files/chunks\")"
   ],
   "outputs": [],
   "execution_count": 13
  },
  {
   "metadata": {
    "ExecuteTime": {
     "end_time": "2024-08-12T06:59:53.532033Z",
     "start_time": "2024-08-12T06:59:47.112655Z"
    }
   },
   "cell_type": "code",
   "source": [
    "from pydub import AudioSegment\n",
    "\n",
    "\n",
    "track = AudioSegment.from_mp3(\"files/audio.mp3\")\n",
    "ten_minutes = 10 * 60 * 1000\n",
    "track.duration_seconds"
   ],
   "id": "9ee3b5a6899f8789",
   "outputs": [
    {
     "data": {
      "text/plain": [
       "4454.841179138322"
      ]
     },
     "execution_count": 8,
     "metadata": {},
     "output_type": "execute_result"
    }
   ],
   "execution_count": 8
  },
  {
   "metadata": {
    "ExecuteTime": {
     "end_time": "2024-08-12T07:34:01.423939Z",
     "start_time": "2024-08-12T07:28:20.081452Z"
    }
   },
   "cell_type": "code",
   "source": [
    "import openai\n",
    "import glob\n",
    "\n",
    "\n",
    "def transcribe_chunks(chunk_folder, destination):\n",
    "    files = sorted(glob.glob(f\"{chunk_folder}/*.mp3\"))\n",
    "    final_transcript = \"\"\n",
    "    for file in files:\n",
    "        with open(file, \"rb\") as audio_file, open(destination, \"a\") as text_file:\n",
    "            transcript = openai.audio.transcriptions.create(\n",
    "                model=\"whisper-1\", \n",
    "                file=audio_file,\n",
    "                response_format=\"text\",\n",
    "                language=\"ko\"\n",
    "            )\n",
    "            # final_transcript += transcript\n",
    "            text_file.write(transcript)\n",
    "    # with open(destination, \"w\") as f:\n",
    "    #     f.write(final_transcript)\n",
    "\n",
    "transcribe_chunks(\"files/chunks\", \"files/transcript.txt\")"
   ],
   "id": "56ecfb9ca43b8d74",
   "outputs": [],
   "execution_count": 14
  },
  {
   "metadata": {},
   "cell_type": "code",
   "source": "",
   "id": "b34c6b77ef98ad86",
   "outputs": [],
   "execution_count": null
  }
 ],
 "metadata": {
  "kernelspec": {
   "display_name": "Python 3",
   "language": "python",
   "name": "python3"
  },
  "language_info": {
   "codemirror_mode": {
    "name": "ipython",
    "version": 2
   },
   "file_extension": ".py",
   "mimetype": "text/x-python",
   "name": "python",
   "nbconvert_exporter": "python",
   "pygments_lexer": "ipython2",
   "version": "2.7.6"
  }
 },
 "nbformat": 4,
 "nbformat_minor": 5
}
