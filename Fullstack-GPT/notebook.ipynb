{
 "cells": [
  {
   "cell_type": "code",
   "execution_count": 5,
   "id": "initial_id",
   "metadata": {
    "collapsed": true,
    "ExecuteTime": {
     "end_time": "2024-01-23T12:21:10.283629Z",
     "start_time": "2024-01-23T12:21:04.332578Z"
    }
   },
   "outputs": [
    {
     "data": {
      "text/plain": "AIMessage(content='서울의 1월 평균 기온은 대략적으로 -2°C에서 2°C 사이입니다. 그러나 각 연도마다 기후 조건이 달라질 수 있으므로 정확한 기온은 해당 연도의 기록을 확인해야 합니다.')"
     },
     "execution_count": 5,
     "metadata": {},
     "output_type": "execute_result"
    }
   ],
   "source": [
    "from langchain.chat_models import ChatOpenAI\n",
    "\n",
    "chat = ChatOpenAI(temperature=0.1)\n",
    "\n",
    "from langchain.schema import HumanMessage, SystemMessage, AIMessage, messages\n",
    "\n",
    "messages = [\n",
    "    SystemMessage(\n",
    "        content=\"You are a Korean languages expert. And you only reply in korean languages.\"\n",
    "    ),\n",
    "    AIMessage(\n",
    "        content=\"안녕. 내 이름은 AI 영조야.\"\n",
    "    ),\n",
    "    HumanMessage(\n",
    "        content=\"서울 1월에 평균 기온이 어느 정도야?\"\n",
    "    ),\n",
    "]\n",
    "\n",
    "chat.predict_messages(messages)"
   ]
  },
  {
   "cell_type": "code",
   "outputs": [],
   "source": [],
   "metadata": {
    "collapsed": false
   },
   "id": "6c772afc908e37b4"
  }
 ],
 "metadata": {
  "kernelspec": {
   "display_name": "Python 3",
   "language": "python",
   "name": "python3"
  },
  "language_info": {
   "codemirror_mode": {
    "name": "ipython",
    "version": 2
   },
   "file_extension": ".py",
   "mimetype": "text/x-python",
   "name": "python",
   "nbconvert_exporter": "python",
   "pygments_lexer": "ipython2",
   "version": "2.7.6"
  }
 },
 "nbformat": 4,
 "nbformat_minor": 5
}
