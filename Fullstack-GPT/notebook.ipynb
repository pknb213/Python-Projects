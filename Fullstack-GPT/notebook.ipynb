{
 "cells": [
  {
   "cell_type": "code",
   "execution_count": 9,
   "id": "initial_id",
   "metadata": {
    "collapsed": true,
    "ExecuteTime": {
     "end_time": "2024-01-23T12:43:17.702604Z",
     "start_time": "2024-01-23T12:43:07.033706Z"
    }
   },
   "outputs": [
    {
     "data": {
      "text/plain": "AIMessage(content='서울의 1월 평균 기온은 약 영하 2도 정도입니다. 그러나 날씨는 매년 다를 수 있으므로 정확한 기온은 기상청의 데이터를 참고하는 것이 좋습니다.')"
     },
     "execution_count": 9,
     "metadata": {},
     "output_type": "execute_result"
    }
   ],
   "source": [
    "from langchain.chat_models import ChatOpenAI\n",
    "from langchain.schema import HumanMessage, SystemMessage, AIMessage, messages\n",
    "from langchain.prompts import PromptTemplate, ChatPromptTemplate\n",
    "\n",
    "\n",
    "template = PromptTemplate.from_template(\n",
    "    \"What is the distance between {country} and {city}?\"\n",
    ")\n",
    "chat = ChatOpenAI(temperature=0.1)\n",
    "prompt = template.format(country=\"Korea\", city=\"Seoul\")\n",
    "chat.predict(prompt)\n",
    "\n",
    "template = ChatPromptTemplate.from_messages([\n",
    "    (\"system\", \"You are a Korean languages expert. And you only reply in korean languages.\"),\n",
    "    (\"ai\", \"안녕. 내 이름은 AI 영조야.\"),\n",
    "    (\"human\", \"서울 1월에 평균 기온이 어느 정도야?\"),\n",
    "])\n",
    "prompt = template.format_messages(\n",
    "    language=\"Korean\",\n",
    "    name=\"영조\",\n",
    "    country=\"Korea\",\n",
    "    city=\"Seoul\"\n",
    ")\n",
    "chat.predict_messages(prompt)"
   ]
  },
  {
   "cell_type": "code",
   "outputs": [],
   "source": [],
   "metadata": {
    "collapsed": false
   },
   "id": "6c772afc908e37b4"
  }
 ],
 "metadata": {
  "kernelspec": {
   "display_name": "Python 3",
   "language": "python",
   "name": "python3"
  },
  "language_info": {
   "codemirror_mode": {
    "name": "ipython",
    "version": 2
   },
   "file_extension": ".py",
   "mimetype": "text/x-python",
   "name": "python",
   "nbconvert_exporter": "python",
   "pygments_lexer": "ipython2",
   "version": "2.7.6"
  }
 },
 "nbformat": 4,
 "nbformat_minor": 5
}
