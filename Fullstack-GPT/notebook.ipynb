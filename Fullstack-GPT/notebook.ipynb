{
 "cells": [
  {
   "cell_type": "code",
   "execution_count": 6,
   "id": "initial_id",
   "metadata": {
    "collapsed": true,
    "ExecuteTime": {
     "end_time": "2024-01-24T06:34:25.275171Z",
     "start_time": "2024-01-24T06:34:17.618256Z"
    }
   },
   "outputs": [
    {
     "data": {
      "text/plain": "AIMessage(content='서울의 1월 평균 기온은 보통 -2°C에서 2°C 사이입니다. 그러나 강한 추위로 인해 영하 온도가 될 수도 있으니 따뜻한 옷을 입는 것이 좋습니다.')"
     },
     "execution_count": 6,
     "metadata": {},
     "output_type": "execute_result"
    }
   ],
   "source": [
    "from langchain.chat_models import ChatOpenAI\n",
    "from langchain.schema import HumanMessage, SystemMessage, AIMessage, messages\n",
    "from langchain.prompts import PromptTemplate, ChatPromptTemplate\n",
    "from langchain.schema.output_parser import T\n",
    "\n",
    "template = PromptTemplate.from_template(\n",
    "    \"What is the distance between {country} and {city}?\"\n",
    ")\n",
    "chat = ChatOpenAI(temperature=0.1)\n",
    "prompt = template.format(country=\"Korea\", city=\"Seoul\")\n",
    "chat.predict(prompt)\n",
    "\n",
    "template = ChatPromptTemplate.from_messages([\n",
    "    (\"system\", \"You are a Korean languages expert. And you only reply in korean languages.\"),\n",
    "    (\"ai\", \"안녕. 내 이름은 AI 영조야.\"),\n",
    "    (\"human\", \"서울 1월에 평균 기온이 어느 정도야?\"),\n",
    "])\n",
    "prompt = template.format_messages(\n",
    "    language=\"Korean\",\n",
    "    name=\"영조\",\n",
    "    country=\"Korea\",\n",
    "    city=\"Seoul\"\n",
    ")\n",
    "chat.predict_messages(prompt)"
   ]
  },
  {
   "cell_type": "code",
   "outputs": [
    {
     "data": {
      "text/plain": "['Hello', 'How', 'are', 'you?']"
     },
     "execution_count": 4,
     "metadata": {},
     "output_type": "execute_result"
    }
   ],
   "source": [
    "from langchain.schema import BaseOutputParser\n",
    "\n",
    "class CommaOutputParser(BaseOutputParser):\n",
    "    \n",
    "    def parse(self, text: str):\n",
    "        items = text.strip().split(\",\")\n",
    "        return list(map(str.strip, items))\n",
    "    \n",
    "p = CommaOutputParser()\n",
    "\n",
    "p.parse(\"Hello, How, are, you?\")"
   ],
   "metadata": {
    "collapsed": false,
    "ExecuteTime": {
     "end_time": "2024-01-24T06:30:27.504542Z",
     "start_time": "2024-01-24T06:30:27.500812Z"
    }
   },
   "id": "6c772afc908e37b4",
   "execution_count": 4
  },
  {
   "cell_type": "code",
   "outputs": [
    {
     "data": {
      "text/plain": "['서울의 1월 평균 기온은 보통 -2도에서 2도 사이입니다. 그러나 강한 추위로 인해 영하 온도가 될 수도 있으니 따뜻한 옷을 준비하는 것이 좋아요.']"
     },
     "execution_count": 12,
     "metadata": {},
     "output_type": "execute_result"
    }
   ],
   "source": [
    "chain = template | chat | CommaOutputParser()\n",
    "chain.invoke({})"
   ],
   "metadata": {
    "collapsed": false,
    "ExecuteTime": {
     "end_time": "2024-01-24T06:35:40.648826Z",
     "start_time": "2024-01-24T06:35:35.418759Z"
    }
   },
   "id": "94fffbb98732b957",
   "execution_count": 12
  },
  {
   "cell_type": "code",
   "outputs": [],
   "source": [],
   "metadata": {
    "collapsed": false
   },
   "id": "df1bf70c6488b5aa"
  },
  {
   "cell_type": "code",
   "outputs": [],
   "source": [],
   "metadata": {
    "collapsed": false
   },
   "id": "5026178aab995162"
  }
 ],
 "metadata": {
  "kernelspec": {
   "display_name": "Python 3",
   "language": "python",
   "name": "python3"
  },
  "language_info": {
   "codemirror_mode": {
    "name": "ipython",
    "version": 2
   },
   "file_extension": ".py",
   "mimetype": "text/x-python",
   "name": "python",
   "nbconvert_exporter": "python",
   "pygments_lexer": "ipython2",
   "version": "2.7.6"
  }
 },
 "nbformat": 4,
 "nbformat_minor": 5
}
