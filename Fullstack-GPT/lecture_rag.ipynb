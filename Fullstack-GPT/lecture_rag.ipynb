{
 "cells": [
  {
   "cell_type": "code",
   "execution_count": 4,
   "id": "initial_id",
   "metadata": {
    "collapsed": true,
    "ExecuteTime": {
     "end_time": "2024-02-10T10:44:15.192802Z",
     "start_time": "2024-02-10T10:44:14.800472Z"
    }
   },
   "outputs": [
    {
     "name": "stdout",
     "output_type": "stream",
     "text": [
      "5 1536\n"
     ]
    }
   ],
   "source": [
    "### 6.4 Introduction\n",
    "# RAG(Retrieval Augmented Generation: 검색 증강 생성)\n",
    "\n",
    "from langchain.embeddings import OpenAIEmbeddings\n",
    "\n",
    "embedder = OpenAIEmbeddings()\n",
    "vector = embedder.embed_documents([\n",
    "    \"hi\", \"how\", \"are\", \"you\", \"?\"\n",
    "])\n",
    "print(len(vector), len(vector[0]))"
   ]
  },
  {
   "cell_type": "code",
   "outputs": [],
   "source": [
    "from langchain.chat_models import ChatOpenAI\n",
    "from langchain.document_loaders import UnstructuredFileLoader\n",
    "from langchain.text_splitter import CharacterTextSplitter\n",
    "from langchain.embeddings import OpenAIEmbeddings, CacheBackedEmbeddings\n",
    "from langchain.vectorstores import Chroma\n",
    "from langchain.storage import LocalFileStore\n",
    "\n",
    "cache_dir = LocalFileStore(\"./.cache\")\n",
    "\n",
    "splitter = CharacterTextSplitter.from_tiktoken_encoder(\n",
    "    separator=\"\\n\",\n",
    "    chunk_size=600,\n",
    "    chunk_overlap=100,\n",
    ")\n",
    "\n",
    "loader = UnstructuredFileLoader(\n",
    "    file_path=\"./소나기 - 황순원.pdf\"\n",
    ")\n",
    "\n",
    "docs = loader.load_and_split(text_splitter=splitter)\n",
    "\n",
    "embeddings = OpenAIEmbeddings()\n",
    "\n",
    "cached_embeddings = CacheBackedEmbeddings.from_bytes_store(\n",
    "    embeddings, cache_dir\n",
    ")\n",
    "\n",
    "vectorstore = Chroma.from_documents(docs, cached_embeddings)"
   ],
   "metadata": {
    "collapsed": false,
    "ExecuteTime": {
     "end_time": "2024-02-10T11:14:37.276244Z",
     "start_time": "2024-02-10T11:14:36.673844Z"
    }
   },
   "id": "77c896eaeeccfda2",
   "execution_count": 24
  },
  {
   "cell_type": "code",
   "outputs": [
    {
     "name": "stdout",
     "output_type": "stream",
     "text": [
      "[Document(page_content='수가 없었다.\\n소년이 등을 돌려 댔다. 소녀가 순순히 업히었다. 걷어올린 소년의 잠방이까지 물이 올라\\n왔다. 소녀는 ‘어머나’소리를 지르며 소년의 목을 끌어안았다.\\n개울가에 다다르기 전에, 가을 하늘이 언제 그랬는가 싶게 구름 한 점 없이 쪽빛으로 개어\\n있었다.\\n그 뒤로 소녀의 모습은 뵈지 않았다. 매일같이 개울가로 달려와 봐도 뵈지 않았다.\\n학교에서 쉬는 시간에 운동장을 살피기도 했다. 남 몰래 5학년 여자 반을 엿보기도 했다.\\n그러나, 뵈지 않았다.', metadata={'source': './소나기 - 황순원.pdf'}), Document(page_content='수가 없었다.\\n소년이 등을 돌려 댔다. 소녀가 순순히 업히었다. 걷어올린 소년의 잠방이까지 물이 올라\\n왔다. 소녀는 ‘어머나’소리를 지르며 소년의 목을 끌어안았다.\\n개울가에 다다르기 전에, 가을 하늘이 언제 그랬는가 싶게 구름 한 점 없이 쪽빛으로 개어\\n있었다.\\n그 뒤로 소녀의 모습은 뵈지 않았다. 매일같이 개울가로 달려와 봐도 뵈지 않았다.\\n학교에서 쉬는 시간에 운동장을 살피기도 했다. 남 몰래 5학년 여자 반을 엿보기도 했다.\\n그러나, 뵈지 않았다.', metadata={'source': './소나기 - 황순원.pdf'}), Document(page_content='수가 없었다.\\n소년이 등을 돌려 댔다. 소녀가 순순히 업히었다. 걷어올린 소년의 잠방이까지 물이 올라\\n왔다. 소녀는 ‘어머나’소리를 지르며 소년의 목을 끌어안았다.\\n개울가에 다다르기 전에, 가을 하늘이 언제 그랬는가 싶게 구름 한 점 없이 쪽빛으로 개어\\n있었다.\\n그 뒤로 소녀의 모습은 뵈지 않았다. 매일같이 개울가로 달려와 봐도 뵈지 않았다.\\n학교에서 쉬는 시간에 운동장을 살피기도 했다. 남 몰래 5학년 여자 반을 엿보기도 했다.\\n그러나, 뵈지 않았다.', metadata={'source': './소나기 - 황순원.pdf'}), Document(page_content='수가 없었다.\\n소년이 등을 돌려 댔다. 소녀가 순순히 업히었다. 걷어올린 소년의 잠방이까지 물이 올라\\n왔다. 소녀는 ‘어머나’소리를 지르며 소년의 목을 끌어안았다.\\n개울가에 다다르기 전에, 가을 하늘이 언제 그랬는가 싶게 구름 한 점 없이 쪽빛으로 개어\\n있었다.\\n그 뒤로 소녀의 모습은 뵈지 않았다. 매일같이 개울가로 달려와 봐도 뵈지 않았다.\\n학교에서 쉬는 시간에 운동장을 살피기도 했다. 남 몰래 5학년 여자 반을 엿보기도 했다.\\n그러나, 뵈지 않았다.', metadata={'source': './소나기 - 황순원.pdf'})] 4\n"
     ]
    }
   ],
   "source": [
    "result = vectorstore.similarity_search(\"소년과 소녀는 무었을 했는가?\")\n",
    "\n",
    "print(result, len(result))"
   ],
   "metadata": {
    "collapsed": false,
    "ExecuteTime": {
     "end_time": "2024-02-10T11:14:38.086081Z",
     "start_time": "2024-02-10T11:14:37.802820Z"
    }
   },
   "id": "c1b1a82c7dae4bb7",
   "execution_count": 25
  },
  {
   "cell_type": "code",
   "outputs": [],
   "source": [],
   "metadata": {
    "collapsed": false
   },
   "id": "6c63a6be5867c9ed"
  }
 ],
 "metadata": {
  "kernelspec": {
   "display_name": "Python 3",
   "language": "python",
   "name": "python3"
  },
  "language_info": {
   "codemirror_mode": {
    "name": "ipython",
    "version": 2
   },
   "file_extension": ".py",
   "mimetype": "text/x-python",
   "name": "python",
   "nbconvert_exporter": "python",
   "pygments_lexer": "ipython2",
   "version": "2.7.6"
  }
 },
 "nbformat": 4,
 "nbformat_minor": 5
}
